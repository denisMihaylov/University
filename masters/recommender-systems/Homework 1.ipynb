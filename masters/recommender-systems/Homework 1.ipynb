{
 "cells": [
  {
   "cell_type": "code",
   "execution_count": 2,
   "metadata": {},
   "outputs": [],
   "source": [
    "from surprise import SVD\n",
    "from surprise import SVDpp\n",
    "from surprise import Dataset\n",
    "from surprise.model_selection import cross_validate\n",
    "from surprise.model_selection import train_test_split\n",
    "from surprise import accuracy\n",
    "from surprise import KNNBasic\n",
    "from surprise.prediction_algorithms.knns import KNNWithZScore\n",
    "from surprise.prediction_algorithms.slope_one import SlopeOne\n",
    "\n",
    "import pandas as pd"
   ]
  },
  {
   "cell_type": "code",
   "execution_count": 3,
   "metadata": {
    "scrolled": true
   },
   "outputs": [
    {
     "name": "stdout",
     "output_type": "stream",
     "text": [
      "Users= 6040\n",
      "Items= 3706\n",
      "Ratings= 1000209\n"
     ]
    }
   ],
   "source": [
    "movie_data = Dataset.load_builtin('ml-1m')\n",
    "df = pd.DataFrame(movie_data.raw_ratings)\n",
    "df.head()\n",
    "print(\"Users=\" ,len(df[0].unique()))\n",
    "print(\"Items=\" ,len(df[1].unique()))\n",
    "print(\"Ratings=\", len(df))"
   ]
  },
  {
   "cell_type": "code",
   "execution_count": 7,
   "metadata": {
    "scrolled": true
   },
   "outputs": [
    {
     "name": "stdout",
     "output_type": "stream",
     "text": [
      "Evaluating RMSE, MAE of algorithm KNNBasic on 5 split(s).\n",
      "\n",
      "                  Fold 1  Fold 2  Fold 3  Fold 4  Fold 5  Mean    Std     \n",
      "RMSE (testset)    0.9232  0.9215  0.9229  0.9247  0.9220  0.9229  0.0011  \n",
      "MAE (testset)     0.7275  0.7261  0.7275  0.7289  0.7271  0.7274  0.0009  \n",
      "Fit time          27.38   27.50   27.70   28.56   28.03   27.83   0.43    \n",
      "Test time         83.47   81.59   81.56   82.20   82.15   82.19   0.69    \n",
      "Wall time: 2min 3s\n"
     ]
    }
   ],
   "source": [
    "%%time\n",
    "temp = cross_validate(KNNBasic(min_k=1),\n",
    "                      movie_data, measures=['RMSE', 'MAE'], verbose=True)"
   ]
  },
  {
   "cell_type": "code",
   "execution_count": 8,
   "metadata": {
    "scrolled": true
   },
   "outputs": [
    {
     "name": "stdout",
     "output_type": "stream",
     "text": [
      "Evaluating RMSE, MAE of algorithm SlopeOne on 5 split(s).\n",
      "\n",
      "                  Fold 1  Fold 2  Fold 3  Fold 4  Fold 5  Mean    Std     \n",
      "RMSE (testset)    0.9045  0.9082  0.9076  0.9052  0.9069  0.9065  0.0014  \n",
      "MAE (testset)     0.7127  0.7161  0.7155  0.7131  0.7146  0.7144  0.0013  \n",
      "Fit time          12.66   12.75   13.73   13.66   12.99   13.16   0.45    \n",
      "Test time         43.36   41.12   41.36   41.37   39.58   41.36   1.20    \n",
      "Wall time: 1min 5s\n"
     ]
    }
   ],
   "source": [
    "%%time\n",
    "temp = cross_validate(SlopeOne(), movie_data, measures=['RMSE', 'MAE'], verbose=True)"
   ]
  },
  {
   "cell_type": "code",
   "execution_count": 9,
   "metadata": {
    "scrolled": true
   },
   "outputs": [
    {
     "name": "stdout",
     "output_type": "stream",
     "text": [
      "Evaluating RMSE, MAE of algorithm SVD on 5 split(s).\n",
      "\n",
      "                  Fold 1  Fold 2  Fold 3  Fold 4  Fold 5  Mean    Std     \n",
      "RMSE (testset)    0.8567  0.8570  0.8577  0.8582  0.8589  0.8577  0.0008  \n",
      "MAE (testset)     0.6737  0.6726  0.6741  0.6746  0.6744  0.6739  0.0007  \n",
      "Fit time          150.92  147.00  146.87  149.89  151.15  149.16  1.87    \n",
      "Test time         1.58    1.67    1.47    1.32    1.36    1.48    0.13    \n",
      "Wall time: 2min 45s\n"
     ]
    }
   ],
   "source": [
    "%%time\n",
    "temp = cross_validate(SVD(n_epochs=60, n_factors=100, reg_all=0.04, lr_all=0.003),\n",
    "                      movie_data, measures=['RMSE', 'MAE'], verbose=True)"
   ]
  },
  {
   "cell_type": "code",
   "execution_count": 4,
   "metadata": {},
   "outputs": [
    {
     "name": "stdout",
     "output_type": "stream",
     "text": [
      "Evaluating RMSE, MAE of algorithm SVDpp on 5 split(s).\n",
      "\n",
      "                  Fold 1  Fold 2  Fold 3  Fold 4  Fold 5  Mean    Std     \n",
      "RMSE (testset)    0.8533  0.8540  0.8559  0.8530  0.8540  0.8541  0.0010  \n",
      "MAE (testset)     0.6685  0.6690  0.6708  0.6688  0.6695  0.6693  0.0008  \n",
      "Fit time          34258.4634112.8633954.5934027.3834885.1734247.69334.40  \n",
      "Test time         43.29   44.60   58.28   45.55   44.40   47.22   5.57    \n",
      "Wall time: 9h 42min 22s\n"
     ]
    }
   ],
   "source": [
    "%%time\n",
    "temp = cross_validate(SVDpp(n_epochs=60, n_factors=100, reg_all=0.04, lr_all=0.003),\n",
    "                      movie_data, measures=['RMSE', 'MAE'], verbose=True)"
   ]
  },
  {
   "cell_type": "markdown",
   "metadata": {},
   "source": [
    "Заключение:\n",
    " - Използвания kNN алгоритъм за User-user CL не можа да се подобри нито с промяна на мярката за разлика, нито с промяна на броя съседи, които трябва да се проверят\n",
    " - SlopeOne алгоритъмът дава по-малка грешка от kNN алгоритъма\n",
    " - SVD алгоритъмът дава по-добри резултати от SlopeOne и kNN, като при намаляване на learning rate-а и увеличаване на регуларизацията и броя на епохи се получават най-добри резултати\n",
    " - SVD++ дава малко по-добри резултати от SVD и като цяло е алгоритъмът, който постига най-добри резултати"
   ]
  },
  {
   "cell_type": "code",
   "execution_count": 5,
   "metadata": {},
   "outputs": [
    {
     "name": "stdout",
     "output_type": "stream",
     "text": [
      "   0   1       2     3\n",
      "0  1   5  11.219  None\n",
      "1  1   7   1.719  None\n",
      "2  1   8   1.719  None\n",
      "3  1  13   4.219  None\n",
      "4  1  15  11.875  None\n",
      "Users= 59132\n",
      "Items= 140\n",
      "Ratings= 1761439\n"
     ]
    }
   ],
   "source": [
    "jester_data = Dataset.load_builtin('jester')\n",
    "df = pd.DataFrame(jester_data.raw_ratings)\n",
    "print(df.head())\n",
    "print(\"Users=\" ,len(df[0].unique()))\n",
    "print(\"Items=\" ,len(df[1].unique()))\n",
    "print(\"Ratings=\", len(df))"
   ]
  },
  {
   "cell_type": "code",
   "execution_count": null,
   "metadata": {},
   "outputs": [],
   "source": [
    "%%time\n",
    "temp = cross_validate(KNNBasic(min_k=1),\n",
    "                      jester_data, measures=['RMSE', 'MAE'], verbose=True)"
   ]
  },
  {
   "cell_type": "code",
   "execution_count": 4,
   "metadata": {},
   "outputs": [
    {
     "name": "stdout",
     "output_type": "stream",
     "text": [
      "Evaluating RMSE, MAE of algorithm SlopeOne on 5 split(s).\n",
      "\n",
      "                  Fold 1  Fold 2  Fold 3  Fold 4  Fold 5  Mean    Std     \n",
      "RMSE (testset)    4.2509  4.2466  4.2513  4.2498  4.2622  4.2522  0.0053  \n",
      "MAE (testset)     3.2300  3.2242  3.2292  3.2279  3.2356  3.2294  0.0037  \n",
      "Fit time          2.60    2.63    2.76    2.82    2.49    2.66    0.12    \n",
      "Test time         13.26   13.31   12.92   12.38   11.99   12.77   0.51    \n",
      "Wall time: 40.9 s\n"
     ]
    }
   ],
   "source": [
    "%%time\n",
    "temp = cross_validate(SlopeOne(), jester_data, measures=['RMSE', 'MAE'], verbose=True)"
   ]
  },
  {
   "cell_type": "code",
   "execution_count": 5,
   "metadata": {},
   "outputs": [
    {
     "name": "stdout",
     "output_type": "stream",
     "text": [
      "Evaluating RMSE, MAE of algorithm SVD on 5 split(s).\n",
      "\n",
      "                  Fold 1  Fold 2  Fold 3  Fold 4  Fold 5  Mean    Std     \n",
      "RMSE (testset)    4.5094  4.4845  4.5059  4.4969  4.4928  4.4979  0.0090  \n",
      "MAE (testset)     3.3765  3.3670  3.3755  3.3702  3.3647  3.3708  0.0046  \n",
      "Fit time          85.26   87.42   85.41   86.09   85.91   86.02   0.77    \n",
      "Test time         2.90    2.60    2.91    2.58    2.64    2.73    0.15    \n",
      "Wall time: 1min 53s\n"
     ]
    }
   ],
   "source": [
    "%%time\n",
    "temp = cross_validate(SVD(), jester_data, measures=['RMSE', 'MAE'], verbose=True)"
   ]
  },
  {
   "cell_type": "code",
   "execution_count": 6,
   "metadata": {},
   "outputs": [
    {
     "name": "stdout",
     "output_type": "stream",
     "text": [
      "Evaluating RMSE, MAE of algorithm SVD on 5 split(s).\n",
      "\n",
      "                  Fold 1  Fold 2  Fold 3  Fold 4  Fold 5  Mean    Std     \n",
      "RMSE (testset)    4.3866  4.3745  4.3760  4.3796  4.3822  4.3798  0.0043  \n",
      "MAE (testset)     3.3076  3.2965  3.3011  3.3001  3.3020  3.3015  0.0036  \n",
      "Fit time          267.95  271.67  269.07  266.85  268.24  268.76  1.62    \n",
      "Test time         2.94    2.75    2.56    2.75    2.51    2.70    0.15    \n",
      "Wall time: 4min 57s\n"
     ]
    }
   ],
   "source": [
    "%%time\n",
    "temp = cross_validate(SVD(n_epochs=60, n_factors=100, reg_all=0.04, lr_all=0.003),\n",
    "                      jester_data, measures=['RMSE', 'MAE'], verbose=True)"
   ]
  },
  {
   "cell_type": "code",
   "execution_count": 6,
   "metadata": {},
   "outputs": [
    {
     "name": "stdout",
     "output_type": "stream",
     "text": [
      "Evaluating RMSE, MAE of algorithm SVDpp on 5 split(s).\n",
      "\n",
      "                  Fold 1  Fold 2  Fold 3  Fold 4  Fold 5  Mean    Std     \n",
      "RMSE (testset)    4.3543  4.3769  4.3644  4.3638  4.3612  4.3641  0.0073  \n",
      "MAE (testset)     3.2854  3.3004  3.2944  3.2916  3.2902  3.2924  0.0049  \n",
      "Fit time          10047.909947.83 10116.8310146.4810050.6610061.9468.56   \n",
      "Test time         17.49   20.69   16.75   16.16   16.95   17.61   1.60    \n",
      "Wall time: 2h 49min 43s\n"
     ]
    }
   ],
   "source": [
    "%%time\n",
    "temp = cross_validate(SVDpp(n_epochs=60, n_factors=100, reg_all=0.04, lr_all=0.003),\n",
    "                      jester_data, measures=['RMSE', 'MAE'], verbose=True)"
   ]
  },
  {
   "cell_type": "markdown",
   "metadata": {},
   "source": [
    "Заключение:\n",
    " - kNN алгоритъмът не успях да го пусна, защото използва прекалено много памет. Имаме 59132 потребителя, а kNN конструира матрица с размер NxN като N е броят на потребителите.\n",
    " - SlopeOne е алгоритъмът, който постига най-добри резултати.\n",
    " - SVD и SVDpp не успяват да се постигнат толкова добри резултати колкото SlopeOne въпреки изборана параметри, които подобряват точността."
   ]
  }
 ],
 "metadata": {
  "kernelspec": {
   "display_name": "Python 3",
   "language": "python",
   "name": "python3"
  },
  "language_info": {
   "codemirror_mode": {
    "name": "ipython",
    "version": 3
   },
   "file_extension": ".py",
   "mimetype": "text/x-python",
   "name": "python",
   "nbconvert_exporter": "python",
   "pygments_lexer": "ipython3",
   "version": "3.6.4"
  }
 },
 "nbformat": 4,
 "nbformat_minor": 2
}
