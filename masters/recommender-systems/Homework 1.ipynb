{
 "cells": [
  {
   "cell_type": "code",
   "execution_count": 1,
   "metadata": {},
   "outputs": [],
   "source": [
    "from surprise import SVD\n",
    "from surprise import SVDpp\n",
    "from surprise import Dataset\n",
    "from surprise.model_selection import cross_validate\n",
    "from surprise.model_selection import train_test_split\n",
    "from surprise import accuracy\n",
    "from surprise import KNNBasic\n",
    "from surprise.prediction_algorithms.slope_one import SlopeOne\n",
    "\n",
    "import pandas as pd"
   ]
  },
  {
   "cell_type": "code",
   "execution_count": 2,
   "metadata": {},
   "outputs": [],
   "source": [
    "movie_data = Dataset.load_builtin('ml-1m')"
   ]
  },
  {
   "cell_type": "code",
   "execution_count": 3,
   "metadata": {},
   "outputs": [],
   "source": [
    "jester_data = Dataset.load_builtin('jester')"
   ]
  },
  {
   "cell_type": "code",
   "execution_count": null,
   "metadata": {},
   "outputs": [],
   "source": [
    "df = pd.DataFrame(movie_data.raw_ratings)"
   ]
  },
  {
   "cell_type": "code",
   "execution_count": null,
   "metadata": {},
   "outputs": [],
   "source": [
    "print(df.head())"
   ]
  },
  {
   "cell_type": "code",
   "execution_count": null,
   "metadata": {},
   "outputs": [],
   "source": [
    "print(\"Users=\" ,len(df[0].unique()))\n",
    "print(\"Items=\" ,len(df[1].unique()))\n",
    "print(\"Ratings=\", len(df))"
   ]
  },
  {
   "cell_type": "code",
   "execution_count": 4,
   "metadata": {},
   "outputs": [],
   "source": [
    "movies_trainset, movies_testset = train_test_split(movie_data, test_size=.25)\n",
    "jester_trainset, jester_testset = train_test_split(jester_data, test_size=.25)"
   ]
  },
  {
   "cell_type": "code",
   "execution_count": 26,
   "metadata": {},
   "outputs": [],
   "source": [
    "def run_algo(algo, train_set, test_set):\n",
    "    algo.fit(train_set)\n",
    "    predictions = algo.test(test_set)\n",
    "    accuracy.rmse(predictions);\n",
    "    accuracy.mae(predictions);"
   ]
  },
  {
   "cell_type": "code",
   "execution_count": 17,
   "metadata": {},
   "outputs": [
    {
     "name": "stdout",
     "output_type": "stream",
     "text": [
      "Computing the msd similarity matrix...\n",
      "Done computing similarity matrix.\n",
      "RMSE: 0.9276\n",
      "MAE:  0.7318\n"
     ]
    }
   ],
   "source": [
    "%%time\n",
    "run_algo(KNNBasic(), movies_trainset, movies_testset)"
   ]
  },
  {
   "cell_type": "code",
   "execution_count": 6,
   "metadata": {},
   "outputs": [
    {
     "name": "stdout",
     "output_type": "stream",
     "text": [
      "RMSE: 0.9085\n",
      "MAE:  0.7161\n"
     ]
    }
   ],
   "source": [
    "%%time\n",
    "run_algo(SlopeOne(), movies_trainset, movies_testset)"
   ]
  },
  {
   "cell_type": "code",
   "execution_count": 55,
   "metadata": {
    "scrolled": false
   },
   "outputs": [
    {
     "name": "stdout",
     "output_type": "stream",
     "text": [
      "RMSE: 0.8788\n",
      "MAE:  0.6904\n",
      "RMSE: 0.8972\n",
      "MAE:  0.7027\n",
      "RMSE: 0.8861\n",
      "MAE:  0.6948\n",
      "RMSE: 0.8874\n",
      "MAE:  0.6963\n",
      "RMSE: 0.8834\n",
      "MAE:  0.6936\n",
      "RMSE: 0.8776\n",
      "MAE:  0.6898\n",
      "RMSE: 0.8910\n",
      "MAE:  0.6991\n",
      "RMSE: 0.8834\n",
      "MAE:  0.6938\n",
      "RMSE: 0.8776\n",
      "MAE:  0.6896\n",
      "RMSE: 0.8802\n",
      "MAE:  0.6910\n",
      "RMSE: 0.8799\n",
      "MAE:  0.6913\n",
      "RMSE: 0.8792\n",
      "MAE:  0.6911\n",
      "CPU times: user 8min 54s, sys: 904 ms, total: 8min 55s\n",
      "Wall time: 8min 54s\n"
     ]
    }
   ],
   "source": [
    "%%time\n",
    "run_algo(SVD(n_epochs=20, n_factors=100, reg_all=0.02), movies_trainset, movies_testset)\n",
    "run_algo(SVD(n_epochs=20, n_factors=100, reg_all=0.01), movies_trainset, movies_testset)\n",
    "run_algo(SVD(n_epochs=20, n_factors=100, reg_all=0.015), movies_trainset, movies_testset)\n",
    "run_algo(SVD(n_epochs=20, n_factors=100, reg_pu=0.01), movies_trainset, movies_testset)\n",
    "run_algo(SVD(n_epochs=20, n_factors=100, reg_pu=0.015), movies_trainset, movies_testset)\n",
    "run_algo(SVD(n_epochs=20, n_factors=100, reg_pu=0.025), movies_trainset, movies_testset)\n",
    "run_algo(SVD(n_epochs=20, n_factors=100, reg_qi=0.01), movies_trainset, movies_testset)\n",
    "run_algo(SVD(n_epochs=20, n_factors=100, reg_qi=0.015), movies_trainset, movies_testset)\n",
    "run_algo(SVD(n_epochs=20, n_factors=100, reg_qi=0.025), movies_trainset, movies_testset)\n",
    "run_algo(SVD(n_epochs=20, n_factors=100, reg_bi=0.01), movies_trainset, movies_testset)\n",
    "run_algo(SVD(n_epochs=20, n_factors=100, reg_bi=0.015), movies_trainset, movies_testset)\n",
    "run_algo(SVD(n_epochs=20, n_factors=100, reg_bi=0.025), movies_trainset, movies_testset)"
   ]
  },
  {
   "cell_type": "code",
   "execution_count": 57,
   "metadata": {},
   "outputs": [
    {
     "name": "stdout",
     "output_type": "stream",
     "text": [
      "RMSE: 0.8799\n",
      "MAE:  0.6912\n",
      "RMSE: 0.8799\n",
      "MAE:  0.6916\n",
      "RMSE: 0.8797\n",
      "MAE:  0.6909\n"
     ]
    }
   ],
   "source": [
    "run_algo(SVD(n_epochs=20, n_factors=100, reg_bu=0.01), movies_trainset, movies_testset)\n",
    "run_algo(SVD(n_epochs=20, n_factors=100, reg_bu=0.015), movies_trainset, movies_testset)\n",
    "run_algo(SVD(n_epochs=20, n_factors=100, reg_bu=0.025), movies_trainset, movies_testset)"
   ]
  },
  {
   "cell_type": "code",
   "execution_count": 58,
   "metadata": {},
   "outputs": [
    {
     "name": "stdout",
     "output_type": "stream",
     "text": [
      "RMSE: 0.8699\n",
      "MAE:  0.6814\n",
      "RMSE: 0.8669\n",
      "MAE:  0.6786\n",
      "RMSE: 0.8687\n",
      "MAE:  0.6798\n",
      "CPU times: user 6min 44s, sys: 180 ms, total: 6min 44s\n",
      "Wall time: 6min 44s\n"
     ]
    }
   ],
   "source": [
    "%%time\n",
    "# n_epochs=210, n_factors=4\n",
    "run_algo(SVD(n_epochs=250, n_factors=4, lr_all=0.004), movies_trainset, movies_testset)\n",
    "run_algo(SVD(n_epochs=210, n_factors=4, lr_all=0.003), movies_trainset, movies_testset)\n",
    "run_algo(SVD(n_epochs=210, n_factors=4, lr_all=0.006), movies_trainset, movies_testset)"
   ]
  },
  {
   "cell_type": "code",
   "execution_count": 11,
   "metadata": {},
   "outputs": [
    {
     "name": "stdout",
     "output_type": "stream",
     "text": [
      "RMSE: 0.8667\n",
      "MAE:  0.6768\n",
      "CPU times: user 51min 1s, sys: 1.44 s, total: 51min 2s\n",
      "Wall time: 50min 59s\n"
     ]
    }
   ],
   "source": [
    "%%time\n",
    "algo = SVDpp()\n",
    "algo.fit(movies_trainset)\n",
    "predictions = algo.test(movies_testset)\n",
    "accuracy.rmse(predictions);\n",
    "accuracy.mae(predictions);"
   ]
  },
  {
   "cell_type": "code",
   "execution_count": 8,
   "metadata": {},
   "outputs": [
    {
     "name": "stdout",
     "output_type": "stream",
     "text": [
      "Evaluating RMSE, MAE of algorithm SVD on 5 split(s).\n",
      "\n",
      "                  Fold 1  Fold 2  Fold 3  Fold 4  Fold 5  Mean    Std     \n",
      "RMSE (testset)    0.8738  0.8742  0.8743  0.8760  0.8724  0.8741  0.0011  \n",
      "MAE (testset)     0.6861  0.6869  0.6861  0.6873  0.6845  0.6862  0.0010  \n",
      "Fit time          95.10   97.54   98.21   99.18   47.11   87.43   20.21   \n",
      "Test time         3.99    4.16    3.97    2.61    1.66    3.28    0.98    \n",
      "CPU times: user 15.7 s, sys: 500 ms, total: 16.2 s\n",
      "Wall time: 2min 32s\n"
     ]
    }
   ],
   "source": [
    "%%time\n",
    "temp = cross_validate(SVD(), movie_data, measures=['RMSE', 'MAE'], cv=5, verbose=True)"
   ]
  },
  {
   "cell_type": "code",
   "execution_count": 9,
   "metadata": {},
   "outputs": [
    {
     "name": "stdout",
     "output_type": "stream",
     "text": [
      "Evaluating RMSE, MAE of algorithm SlopeOne on 5 split(s).\n",
      "\n",
      "                  Fold 1  Fold 2  Fold 3  Fold 4  Fold 5  Mean    Std     \n",
      "RMSE (testset)    0.9056  0.9057  0.9071  0.9057  0.9085  0.9065  0.0011  \n",
      "MAE (testset)     0.7133  0.7143  0.7147  0.7133  0.7165  0.7144  0.0012  \n",
      "Fit time          22.94   21.89   23.05   22.40   14.14   20.88   3.40    \n",
      "Test time         88.36   88.01   89.11   87.41   32.58   77.09   22.27   \n",
      "CPU times: user 17.6 s, sys: 552 ms, total: 18.1 s\n",
      "Wall time: 2min 42s\n"
     ]
    }
   ],
   "source": [
    "%%time\n",
    "temp = cross_validate(SlopeOne(), movie_data, measures=['RMSE', 'MAE'], cv=5, verbose=True)"
   ]
  }
 ],
 "metadata": {
  "kernelspec": {
   "display_name": "Python [conda env:denis-env]",
   "language": "python",
   "name": "conda-env-denis-env-py"
  },
  "language_info": {
   "codemirror_mode": {
    "name": "ipython",
    "version": 3
   },
   "file_extension": ".py",
   "mimetype": "text/x-python",
   "name": "python",
   "nbconvert_exporter": "python",
   "pygments_lexer": "ipython3",
   "version": "3.6.3"
  }
 },
 "nbformat": 4,
 "nbformat_minor": 2
}
