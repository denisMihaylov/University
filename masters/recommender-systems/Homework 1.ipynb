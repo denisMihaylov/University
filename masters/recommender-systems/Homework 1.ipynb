{
 "cells": [
  {
   "cell_type": "code",
   "execution_count": 1,
   "metadata": {},
   "outputs": [],
   "source": [
    "from surprise import SVD\n",
    "from surprise import SVDpp\n",
    "from surprise import Dataset\n",
    "from surprise.model_selection import cross_validate\n",
    "from surprise.model_selection import train_test_split\n",
    "from surprise import accuracy\n",
    "from surprise import KNNBasic\n",
    "from surprise.prediction_algorithms.knns import KNNWithZScore\n",
    "from surprise.prediction_algorithms.slope_one import SlopeOne\n",
    "\n",
    "import pandas as pd"
   ]
  },
  {
   "cell_type": "code",
   "execution_count": 2,
   "metadata": {
    "scrolled": true
   },
   "outputs": [
    {
     "name": "stdout",
     "output_type": "stream",
     "text": [
      "   0     1    2          3\n",
      "0  1  1193  5.0  978300760\n",
      "1  1   661  3.0  978302109\n",
      "2  1   914  3.0  978301968\n",
      "3  1  3408  4.0  978300275\n",
      "4  1  2355  5.0  978824291\n",
      "Users= 6040\n",
      "Items= 3706\n",
      "Ratings= 1000209\n"
     ]
    }
   ],
   "source": [
    "movie_data = Dataset.load_builtin('ml-1m')\n",
    "df = pd.DataFrame(movie_data.raw_ratings)\n",
    "df.head()"
   ]
  },
  {
   "cell_type": "code",
   "execution_count": null,
   "metadata": {},
   "outputs": [],
   "source": [
    "print(\"Users=\" ,len(df[0].unique()))\n",
    "print(\"Items=\" ,len(df[1].unique()))\n",
    "print(\"Ratings=\", len(df))"
   ]
  },
  {
   "cell_type": "code",
   "execution_count": 39,
   "metadata": {
    "scrolled": true
   },
   "outputs": [
    {
     "name": "stdout",
     "output_type": "stream",
     "text": [
      "Evaluating RMSE, MAE of algorithm KNNBasic on 5 split(s).\n",
      "\n",
      "                  Fold 1  Fold 2  Fold 3  Fold 4  Fold 5  Mean    Std     \n",
      "RMSE (testset)    0.9226  0.9224  0.9218  0.9252  0.9236  0.9231  0.0012  \n",
      "MAE (testset)     0.7277  0.7274  0.7268  0.7285  0.7282  0.7277  0.0006  \n",
      "Fit time          28.89   28.21   28.66   29.15   28.87   28.75   0.31    \n",
      "Test time         88.21   86.08   86.36   85.01   85.42   86.22   1.11    \n",
      "Wall time: 2min 8s\n"
     ]
    }
   ],
   "source": [
    "%%time\n",
    "temp = cross_validate(KNNBasic(min_k=1),\n",
    "                      movie_data, measures=['RMSE', 'MAE'], verbose=True)"
   ]
  },
  {
   "cell_type": "code",
   "execution_count": 3,
   "metadata": {},
   "outputs": [
    {
     "name": "stdout",
     "output_type": "stream",
     "text": [
      "Evaluating RMSE, MAE of algorithm SlopeOne on 5 split(s).\n",
      "\n",
      "                  Fold 1  Fold 2  Fold 3  Fold 4  Fold 5  Mean    Std     \n",
      "RMSE (testset)    0.9059  0.9052  0.9067  0.9083  0.9063  0.9065  0.0010  \n",
      "MAE (testset)     0.7139  0.7136  0.7146  0.7156  0.7144  0.7144  0.0007  \n",
      "Fit time          12.55   12.95   13.38   14.00   13.12   13.20   0.48    \n",
      "Test time         44.55   43.40   42.91   41.90   42.07   42.97   0.96    \n",
      "Wall time: 1min 8s\n"
     ]
    }
   ],
   "source": [
    "%%time\n",
    "temp = cross_validate(SlopeOne(), movie_data, measures=['RMSE', 'MAE'], verbose=True)"
   ]
  },
  {
   "cell_type": "code",
   "execution_count": 32,
   "metadata": {
    "scrolled": true
   },
   "outputs": [
    {
     "name": "stdout",
     "output_type": "stream",
     "text": [
      "Evaluating RMSE, MAE of algorithm SVD on 5 split(s).\n",
      "\n",
      "                  Fold 1  Fold 2  Fold 3  Fold 4  Fold 5  Mean    Std     \n",
      "RMSE (testset)    0.8584  0.8590  0.8549  0.8570  0.8583  0.8575  0.0015  \n",
      "MAE (testset)     0.6743  0.6752  0.6716  0.6737  0.6741  0.6738  0.0012  \n",
      "Fit time          164.07  164.10  164.29  164.17  163.63  164.05  0.22    \n",
      "Test time         1.76    1.61    1.57    1.51    1.41    1.57    0.11    \n",
      "Wall time: 2min 58s\n"
     ]
    }
   ],
   "source": [
    "%%time\n",
    "temp = cross_validate(SVD(n_epochs=60, n_factors=100, reg_all=0.04, lr_all=0.003),\n",
    "                      movie_data, measures=['RMSE', 'MAE'], verbose=True)"
   ]
  },
  {
   "cell_type": "code",
   "execution_count": 11,
   "metadata": {},
   "outputs": [
    {
     "name": "stdout",
     "output_type": "stream",
     "text": [
      "RMSE: 0.8667\n",
      "MAE:  0.6768\n",
      "CPU times: user 51min 1s, sys: 1.44 s, total: 51min 2s\n",
      "Wall time: 50min 59s\n"
     ]
    }
   ],
   "source": [
    "%%time\n",
    "temp = cross_validate(SVDpp(n_epochs=60, n_factors=100, reg_all=0.04, lr_all=0.003),\n",
    "                      movie_data, measures=['RMSE', 'MAE'], verbose=True)"
   ]
  },
  {
   "cell_type": "markdown",
   "metadata": {},
   "source": [
    "Заключение:\n",
    " - Използвания kNN алгоритъм за User-user CL не можа да се подобри нито с промяна на мярката за разлика, нито с промяна на броя съседи, които трябва да се проверят\n",
    " - SlopeOne алгоритъмът дава по-малка грешка от kNN алгоритъма\n",
    " - SVD алгоритъмът дава по-добри резултати от SlopeOne и kNN, като при намаляване на learning rate-а и увеличаване на регуларизацията и броя на епохи се получават най-добри резултати\n",
    " - SVD++ "
   ]
  },
  {
   "cell_type": "code",
   "execution_count": 4,
   "metadata": {},
   "outputs": [
    {
     "name": "stdout",
     "output_type": "stream",
     "text": [
      "   0   1       2     3\n",
      "0  1   5  11.219  None\n",
      "1  1   7   1.719  None\n",
      "2  1   8   1.719  None\n",
      "3  1  13   4.219  None\n",
      "4  1  15  11.875  None\n",
      "Users= 59132\n",
      "Items= 140\n",
      "Ratings= 1761439\n"
     ]
    }
   ],
   "source": [
    "jester_data = Dataset.load_builtin('jester')\n",
    "df = pd.DataFrame(jester_data.raw_ratings)\n",
    "print(df.head())\n",
    "print(\"Users=\" ,len(df[0].unique()))\n",
    "print(\"Items=\" ,len(df[1].unique()))\n",
    "print(\"Ratings=\", len(df))"
   ]
  },
  {
   "cell_type": "code",
   "execution_count": null,
   "metadata": {},
   "outputs": [],
   "source": [
    "%%time\n",
    "temp = cross_validate(KNNBasic(min_k=1),\n",
    "                      jester_data, measures=['RMSE', 'MAE'], verbose=True)"
   ]
  },
  {
   "cell_type": "code",
   "execution_count": null,
   "metadata": {},
   "outputs": [],
   "source": [
    "%%time\n",
    "temp = cross_validate(KNNBasic(min_k=3),\n",
    "                      jester_data, measures=['RMSE', 'MAE'], verbose=True)"
   ]
  },
  {
   "cell_type": "code",
   "execution_count": 5,
   "metadata": {},
   "outputs": [
    {
     "name": "stdout",
     "output_type": "stream",
     "text": [
      "Evaluating RMSE, MAE of algorithm SlopeOne on 5 split(s).\n",
      "\n",
      "                  Fold 1  Fold 2  Fold 3  Fold 4  Fold 5  Mean    Std     \n",
      "RMSE (testset)    4.2622  4.2432  4.2520  4.2445  4.2544  4.2512  0.0069  \n",
      "MAE (testset)     3.2358  3.2222  3.2282  3.2247  3.2321  3.2286  0.0049  \n",
      "Fit time          2.56    2.52    2.68    2.76    2.53    2.61    0.10    \n",
      "Test time         12.43   12.92   12.42   12.17   11.72   12.33   0.39    \n",
      "Wall time: 40 s\n"
     ]
    }
   ],
   "source": [
    "%%time\n",
    "temp = cross_validate(SlopeOne(), jester_data, measures=['RMSE', 'MAE'], verbose=True)"
   ]
  },
  {
   "cell_type": "code",
   "execution_count": 7,
   "metadata": {},
   "outputs": [
    {
     "name": "stdout",
     "output_type": "stream",
     "text": [
      "Evaluating RMSE, MAE of algorithm SVD on 5 split(s).\n",
      "\n",
      "                  Fold 1  Fold 2  Fold 3  Fold 4  Fold 5  Mean    Std     \n",
      "RMSE (testset)    4.4950  4.4941  4.5046  4.5069  4.4947  4.4991  0.0055  \n",
      "MAE (testset)     3.3679  3.3664  3.3750  3.3786  3.3694  3.3715  0.0046  \n",
      "Fit time          82.90   85.27   87.52   85.44   88.12   85.85   1.85    \n",
      "Test time         3.05    2.97    2.64    2.56    2.51    2.75    0.22    \n",
      "Evaluating RMSE, MAE of algorithm SVD on 5 split(s).\n",
      "\n",
      "                  Fold 1  Fold 2  Fold 3  Fold 4  Fold 5  Mean    Std     \n",
      "RMSE (testset)    4.3896  4.3681  4.3851  4.3808  4.3813  4.3810  0.0072  \n",
      "MAE (testset)     3.3077  3.2899  3.3012  3.3013  3.3039  3.3008  0.0060  \n",
      "Fit time          256.13  262.28  258.06  262.65  258.38  259.50  2.54    \n",
      "Test time         2.63    3.00    3.02    2.54    2.56    2.75    0.21    \n",
      "Evaluating RMSE, MAE of algorithm SVDpp on 5 split(s).\n",
      "\n",
      "                  Fold 1  Fold 2  Fold 3  Fold 4  Fold 5  Mean    Std     \n",
      "RMSE (testset)    4.3602  4.3728  4.3642  4.3731  4.3638  4.3668  0.0052  \n",
      "MAE (testset)     3.2852  3.3056  3.2992  3.3029  3.2963  3.2978  0.0071  \n",
      "Fit time          10776.4510935.8610666.3910654.2610757.1210758.01101.12  \n",
      "Test time         19.56   20.20   23.74   24.69   20.53   21.75   2.06    \n",
      "Wall time: 3h 9min 29s\n"
     ]
    }
   ],
   "source": [
    "%%time\n",
    "temp = cross_validate(SVD(), jester_data, measures=['RMSE', 'MAE'], verbose=True)"
   ]
  },
  {
   "cell_type": "code",
   "execution_count": null,
   "metadata": {},
   "outputs": [],
   "source": [
    "%%time\n",
    "temp = cross_validate(SVD(n_epochs=60, n_factors=100, reg_all=0.04, lr_all=0.003),\n",
    "                      jester_data, measures=['RMSE', 'MAE'], verbose=True)"
   ]
  },
  {
   "cell_type": "code",
   "execution_count": null,
   "metadata": {},
   "outputs": [],
   "source": [
    "%%time\n",
    "temp = cross_validate(SVDpp(n_epochs=60, n_factors=100, reg_all=0.04, lr_all=0.003),\n",
    "                      jester_data, measures=['RMSE', 'MAE'], verbose=True)"
   ]
  },
  {
   "cell_type": "markdown",
   "metadata": {},
   "source": [
    "Conclusions:\n",
    " - "
   ]
  }
 ],
 "metadata": {
  "kernelspec": {
   "display_name": "Python 3",
   "language": "python",
   "name": "python3"
  },
  "language_info": {
   "codemirror_mode": {
    "name": "ipython",
    "version": 3
   },
   "file_extension": ".py",
   "mimetype": "text/x-python",
   "name": "python",
   "nbconvert_exporter": "python",
   "pygments_lexer": "ipython3",
   "version": "3.6.4"
  }
 },
 "nbformat": 4,
 "nbformat_minor": 2
}
